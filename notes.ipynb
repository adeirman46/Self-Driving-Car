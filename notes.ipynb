{
 "cells": [
  {
   "cell_type": "code",
   "execution_count": 2,
   "metadata": {},
   "outputs": [],
   "source": [
    "import numpy as np\n",
    "from numpy.linalg import inv"
   ]
  },
  {
   "cell_type": "code",
   "execution_count": 3,
   "metadata": {},
   "outputs": [
    {
     "data": {
      "text/plain": [
       "array([[0.36, 0.5 ],\n",
       "       [0.5 , 1.1 ]])"
      ]
     },
     "execution_count": 3,
     "metadata": {},
     "output_type": "execute_result"
    }
   ],
   "source": [
    "# module 2 week 2\n",
    "F = np.array([[1, 0.5], [0, 1]])\n",
    "P = np.array([[0.01, 0], [0, 1]])\n",
    "Q = np.array([[0.1, 0], [0, 0.1]])\n",
    "\n",
    "Pk = F.dot(P).dot(F.T) + Q\n",
    "Pk"
   ]
  },
  {
   "cell_type": "code",
   "execution_count": 4,
   "metadata": {},
   "outputs": [
    {
     "data": {
      "text/plain": [
       "array([[0.87804878],\n",
       "       [1.2195122 ]])"
      ]
     },
     "execution_count": 4,
     "metadata": {},
     "output_type": "execute_result"
    }
   ],
   "source": [
    "P1 = Pk\n",
    "H1 = np.array([[1, 0]])\n",
    "R1 = np.array([[0.05]])\n",
    "K1 = P1.dot(H1.T).dot(inv(H1.dot(P1).dot(H1.T) + R1))\n",
    "K1"
   ]
  },
  {
   "cell_type": "code",
   "execution_count": 5,
   "metadata": {},
   "outputs": [
    {
     "data": {
      "text/plain": [
       "array([[2.23658537],\n",
       "       [3.63414634]])"
      ]
     },
     "execution_count": 5,
     "metadata": {},
     "output_type": "execute_result"
    }
   ],
   "source": [
    "X1_lh = np.array([[2.5], [4]])\n",
    "Y1 = np.array([[2.2]])\n",
    "X1_uh = X1_lh + K1.dot(Y1 - H1.dot(X1_lh))\n",
    "X1_uh"
   ]
  },
  {
   "cell_type": "code",
   "execution_count": 6,
   "metadata": {},
   "outputs": [
    {
     "data": {
      "text/plain": [
       "array([[0.04390244, 0.06097561],\n",
       "       [0.06097561, 0.4902439 ]])"
      ]
     },
     "execution_count": 6,
     "metadata": {},
     "output_type": "execute_result"
    }
   ],
   "source": [
    "P1_uh = (np.eye(2) - K1.dot(H1)).dot(P1)\n",
    "P1_uh"
   ]
  },
  {
   "cell_type": "code",
   "execution_count": 7,
   "metadata": {},
   "outputs": [
    {
     "data": {
      "text/plain": [
       "0.010212489984000466"
      ]
     },
     "execution_count": 7,
     "metadata": {},
     "output_type": "execute_result"
    }
   ],
   "source": [
    "20/((40-np.pi/6)**2 + 20**2)"
   ]
  },
  {
   "cell_type": "code",
   "execution_count": 8,
   "metadata": {},
   "outputs": [
    {
     "data": {
      "text/plain": [
       "array([[0.39428251],\n",
       "       [0.54761459]])"
      ]
     },
     "execution_count": 8,
     "metadata": {},
     "output_type": "execute_result"
    }
   ],
   "source": [
    "# ekf\n",
    "p1 = np.array([[0.36, 0.5], [0.5, 1.1]])\n",
    "h1 = np.array([[0.011, 0]])\n",
    "r1 = np.array([[0.01]])\n",
    "k1 = p1.dot(h1.T).dot(inv(h1.dot(p1).dot(h1.T) + r1))\n",
    "k1"
   ]
  },
  {
   "cell_type": "code",
   "execution_count": 9,
   "metadata": {},
   "outputs": [
    {
     "data": {
      "text/plain": [
       "0.4636476090008061"
      ]
     },
     "execution_count": 9,
     "metadata": {},
     "output_type": "execute_result"
    }
   ],
   "source": [
    "np.arctan(20/40)"
   ]
  },
  {
   "cell_type": "code",
   "execution_count": 10,
   "metadata": {},
   "outputs": [
    {
     "data": {
      "text/plain": [
       "0.5235987755982988"
      ]
     },
     "execution_count": 10,
     "metadata": {},
     "output_type": "execute_result"
    }
   ],
   "source": [
    "np.pi/6"
   ]
  },
  {
   "cell_type": "code",
   "execution_count": 11,
   "metadata": {},
   "outputs": [
    {
     "data": {
      "text/plain": [
       "array([[2.51324741],\n",
       "       [4.01839918]])"
      ]
     },
     "execution_count": 11,
     "metadata": {},
     "output_type": "execute_result"
    }
   ],
   "source": [
    "x1_lh = np.array([[2.5], [4]])\n",
    "x1_uh = x1_lh + k1 * (np.pi/6 - 0.49)\n",
    "x1_uh"
   ]
  },
  {
   "cell_type": "code",
   "execution_count": 12,
   "metadata": {},
   "outputs": [
    {
     "data": {
      "text/plain": [
       "array([[0.35843864, 0.49783145],\n",
       "       [0.49783145, 1.09698812]])"
      ]
     },
     "execution_count": 12,
     "metadata": {},
     "output_type": "execute_result"
    }
   ],
   "source": [
    "p1_uh = (np.eye(2) - k1.dot(h1)).dot(p1)\n",
    "p1_uh"
   ]
  },
  {
   "cell_type": "code",
   "execution_count": 13,
   "metadata": {},
   "outputs": [
    {
     "data": {
      "text/plain": [
       "array([[0.1, 0. ],\n",
       "       [0. , 1. ]])"
      ]
     },
     "execution_count": 13,
     "metadata": {},
     "output_type": "execute_result"
    }
   ],
   "source": [
    "# cholesecky decomposition\n",
    "A = np.array([[0.01, 0], [0, 1]])\n",
    "L = np.linalg.cholesky(A)\n",
    "L"
   ]
  },
  {
   "cell_type": "code",
   "execution_count": 14,
   "metadata": {},
   "outputs": [
    {
     "data": {
      "text/plain": [
       "array([[0.17320508],\n",
       "       [5.        ]])"
      ]
     },
     "execution_count": 14,
     "metadata": {},
     "output_type": "execute_result"
    }
   ],
   "source": [
    "X_00 = np.array([[0], [5]])\n",
    "X_01 = X_00 + np.sqrt(3) * np.array([[0.1], [0]])\n",
    "X_01"
   ]
  },
  {
   "cell_type": "code",
   "execution_count": 15,
   "metadata": {},
   "outputs": [
    {
     "data": {
      "text/plain": [
       "array([[0.6       , 0.        ],\n",
       "       [0.83333333, 0.63683244]])"
      ]
     },
     "execution_count": 15,
     "metadata": {},
     "output_type": "execute_result"
    }
   ],
   "source": [
    "# cholesecky decomposition\n",
    "A = np.array([[0.36, 0.5], [0.5, 1.1]])\n",
    "L = np.linalg.cholesky(A)\n",
    "L"
   ]
  },
  {
   "cell_type": "code",
   "execution_count": 2,
   "metadata": {},
   "outputs": [],
   "source": [
    "import numpy as np"
   ]
  },
  {
   "cell_type": "code",
   "execution_count": 9,
   "metadata": {},
   "outputs": [],
   "source": [
    "o = np.array([[-0.5],\n",
    "              [1.5],\n",
    "              [9],\n",
    "              [1]])\n",
    "\n",
    "t = np.array([[1],\n",
    "            [2],\n",
    "            [10]])\n",
    "\n",
    "K = np.array([[640, 0, 640],\n",
    "               [0, 480, 480],\n",
    "                [0, 0, 1]])"
   ]
  },
  {
   "cell_type": "code",
   "execution_count": 10,
   "metadata": {},
   "outputs": [],
   "source": [
    "R = np.array([[1, 0, 0],\n",
    "              [0, np.cos(np.pi), -np.sin(np.pi)],\n",
    "              [0, np.sin(np.pi), np.cos(np.pi)]])"
   ]
  },
  {
   "cell_type": "code",
   "execution_count": 11,
   "metadata": {},
   "outputs": [
    {
     "data": {
      "text/plain": [
       "array([[ 1.0000000e+00,  0.0000000e+00,  0.0000000e+00,  1.0000000e+00],\n",
       "       [ 0.0000000e+00, -1.0000000e+00, -1.2246468e-16,  2.0000000e+00],\n",
       "       [ 0.0000000e+00,  1.2246468e-16, -1.0000000e+00,  1.0000000e+01]])"
      ]
     },
     "execution_count": 11,
     "metadata": {},
     "output_type": "execute_result"
    }
   ],
   "source": [
    "Rt = np.hstack((R, t))\n",
    "Rt"
   ]
  },
  {
   "cell_type": "code",
   "execution_count": 15,
   "metadata": {},
   "outputs": [],
   "source": [
    "Ocam = K.dot(Rt).dot(o)"
   ]
  },
  {
   "cell_type": "code",
   "execution_count": 16,
   "metadata": {},
   "outputs": [
    {
     "data": {
      "text/plain": [
       "array([[960.],\n",
       "       [720.],\n",
       "       [  1.]])"
      ]
     },
     "execution_count": 16,
     "metadata": {},
     "output_type": "execute_result"
    }
   ],
   "source": [
    "Ocam"
   ]
  },
  {
   "cell_type": "code",
   "execution_count": 17,
   "metadata": {},
   "outputs": [],
   "source": [
    "Opix = Ocam / Ocam[2]"
   ]
  },
  {
   "cell_type": "code",
   "execution_count": 18,
   "metadata": {},
   "outputs": [
    {
     "data": {
      "text/plain": [
       "array([[960.],\n",
       "       [720.],\n",
       "       [  1.]])"
      ]
     },
     "execution_count": 18,
     "metadata": {},
     "output_type": "execute_result"
    }
   ],
   "source": [
    "Opix"
   ]
  },
  {
   "cell_type": "code",
   "execution_count": null,
   "metadata": {},
   "outputs": [],
   "source": []
  }
 ],
 "metadata": {
  "kernelspec": {
   "display_name": "base",
   "language": "python",
   "name": "python3"
  },
  "language_info": {
   "codemirror_mode": {
    "name": "ipython",
    "version": 3
   },
   "file_extension": ".py",
   "mimetype": "text/x-python",
   "name": "python",
   "nbconvert_exporter": "python",
   "pygments_lexer": "ipython3",
   "version": "3.1.undefined"
  }
 },
 "nbformat": 4,
 "nbformat_minor": 2
}
